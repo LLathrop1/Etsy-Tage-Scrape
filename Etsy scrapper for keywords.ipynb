{
 "cells": [
  {
   "cell_type": "markdown",
   "metadata": {},
   "source": [
    "# Keyword tags code"
   ]
  },
  {
   "cell_type": "code",
   "execution_count": 5,
   "metadata": {},
   "outputs": [
    {
     "data": {
      "text/plain": [
       "1510"
      ]
     },
     "execution_count": 5,
     "metadata": {},
     "output_type": "execute_result"
    }
   ],
   "source": [
    "import requests\n",
    "from bs4 import BeautifulSoup\n",
    "import pandas as pd\n",
    "\n",
    "# this is the keyword search term for etsy\n",
    "query = \"dance+shirt\"\n",
    "\n",
    "etsy_page_search = requests.get(\"https://www.etsy.com/search/?q=\" + query)\n",
    "soup_search = BeautifulSoup(etsy_page_search.content,\"html5lib\")\n",
    "\n",
    "#This is the listing id list\n",
    "listing_id = soup_search.find_all(\"a\")\n",
    "#This holds the listing url\n",
    "list_id_records = []\n",
    "keywords_records = []\n",
    "\n",
    "#this gather listing url by listing id and adding to website address\n",
    "for listing in listing_id:\n",
    "    list_id = (listing.get(\"data-listing-id\"))\n",
    "    if list_id != None:\n",
    "        url_product = \"http://www.etsy.com/listing/\" + str(list_id) +\"/\"\n",
    "        list_id_records.append(url_product)\n",
    "    #getting product page information\n",
    "    \n",
    "for list_id in list_id_records:\n",
    "    etsy_page_product = requests.get(list_id)\n",
    "    soup_product = BeautifulSoup(etsy_page_product.content,\"html.parser\")\n",
    "    keywords_list = soup_product.find_all(\"a\", {\"class\":\"text-center btn btn-link tag-button-link\"})\n",
    "    for keywords in keywords_list:\n",
    "        keyword = keywords.text        \n",
    "        title = soup_product.find(\"h1\", {\"class\":\"mb-xs-2 override-listing-title break-word\"}).text\n",
    "        seller = soup_product.find(\"span\", {\"itemprop\":\"title\"}).text\n",
    "        price = soup_product.find(\"span\", {\"class\":\"currency-value\"}).text\n",
    "        keywords_records.append((title, seller, price, keyword))\n",
    "\n",
    "df = pd.DataFrame(keywords_records, columns =[\"Title\",\"Seller\",\"Current_Price\",\"Keyword_Tag\"])\n",
    "df.to_csv(query + \".csv\", index=True, encoding=\"utf-8\")\n",
    "len(keywords_records)"
   ]
  },
  {
   "cell_type": "code",
   "execution_count": null,
   "metadata": {},
   "outputs": [],
   "source": []
  }
 ],
 "metadata": {
  "kernelspec": {
   "display_name": "Python 3",
   "language": "python",
   "name": "python3"
  },
  "language_info": {
   "codemirror_mode": {
    "name": "ipython",
    "version": 3
   },
   "file_extension": ".py",
   "mimetype": "text/x-python",
   "name": "python",
   "nbconvert_exporter": "python",
   "pygments_lexer": "ipython3",
   "version": "3.6.4"
  }
 },
 "nbformat": 4,
 "nbformat_minor": 2
}
